{
 "cells": [
  {
   "cell_type": "markdown",
   "metadata": {},
   "source": [
    "## ChatBOT with PyTorch\n",
    "- ChatBOT's training data contains sequences having different **tags** such as greeting, goodbye...\n",
    "- Under each tag, there are 2 main parts: **patterns** and **responses**.\n",
    "- On vectorization step, the concept of **BOW (Bag Of Words)** is used. \n",
    "- Each pattern is represented via a one-hot-vector with size of the whole corpus.\n",
    "\n",
    "    - For example: let's say all words are: [\"Hi\",\"How\",\"are\",\"you\",\"bye\",\"see\",\"later\"] \n",
    "    - \"Hi\" --> [1,0,0,0,0,0,0] and its label is 0 (greeting)\n",
    "    - \"See you later\" --> [0,0,0,1,0,1,1] and its label is 1 (goodbye)\n",
    "\n",
    "- Technique of **Tokenization** is used via **NLTK (Natural Language ToolKit)** for splitting a string into meaningful (not always tho) units.\n",
    "- And technique of **Stemming** is used to generate root form of the words. i.e. crude heuristic that chops of the ends off of words.\n",
    "### -----------------------------------------------------------------------------------------------------------\n",
    "### NLP Preprocessing Pipeline\n",
    "- A basic preprocessing pipeline used for extracting ChatBOT training data contains these steps:\n",
    "    1) Tokenize\n",
    "    2) Lower + Stem\n",
    "    3) Exclude punctuation characters\n",
    "    4) Bag of words\n",
    "- When an input sequence (string) goes through these steps, one-hot-vector for training (X) is obtained.\n",
    "    - For example: input sequence \"Is anyone there?\" \n",
    "    - after tokenization --> [\"Is\",\"anyone\",\"there\",\"?\"]\n",
    "    - after lowering and stemming --> [\"is\",\"anyon\",\"there\",\"?\"]\n",
    "    - after excluding punctuations --> [\"is\",\"anyon\",\"there\"]\n",
    "    - after BOW --> [0,0,0,1,0,1,0,1] is our input vector X"
   ]
  },
  {
   "cell_type": "code",
   "execution_count": 1,
   "metadata": {},
   "outputs": [
    {
     "data": {
      "text/plain": [
       "'NVIDIA GeForce RTX 3050 Ti Laptop GPU'"
      ]
     },
     "execution_count": 1,
     "metadata": {},
     "output_type": "execute_result"
    }
   ],
   "source": [
    "import torch\n",
    "import torch.nn as nn\n",
    "from torch.utils.data import DataLoader, Dataset\n",
    "import nltk_utils, train_utils\n",
    "device = torch.device('cuda' if torch.cuda.is_available() else 'cpu')\n",
    "torch.cuda.get_device_name(device)"
   ]
  },
  {
   "cell_type": "markdown",
   "metadata": {},
   "source": [
    "###  Dataset Implementation"
   ]
  },
  {
   "cell_type": "code",
   "execution_count": 2,
   "metadata": {},
   "outputs": [],
   "source": [
    "# Hyperparameters\n",
    "batch_size = 8\n",
    "num_workers = 2\n",
    "learning_rate = 0.001\n",
    "n_epochs = 1000"
   ]
  },
  {
   "cell_type": "code",
   "execution_count": 3,
   "metadata": {},
   "outputs": [
    {
     "name": "stdout",
     "output_type": "stream",
     "text": [
      "the tags: ['allergen_information', 'cafe_environment', 'customer_service', 'customization', 'daily_specials', 'delivery', 'drinks', 'events', 'food_options', 'funny', 'goodbye', 'greeting', 'hours', 'items', 'location', 'loyalty_program', 'payments', 'prices', 'specialty_drinks', 'sustainability_practices', 'thanks', 'wifi']\n",
      "number of tags: 22\n"
     ]
    }
   ],
   "source": [
    "X_train, y_train, all_words, tags = train_utils.get_train_data()\n",
    "\n",
    "class ChatBOTDataset(Dataset):\n",
    "\n",
    "    def __init__(self):\n",
    "        self.n_samples = len(X_train)\n",
    "        self.x_data = X_train\n",
    "        self.y_data = y_train\n",
    "\n",
    "    def __getitem__(self, index):\n",
    "        return self.x_data[index], self.y_data[index]\n",
    "    \n",
    "    def __len__(self):\n",
    "        return self.n_samples\n",
    "    \n",
    "dataset = ChatBOTDataset()\n",
    "train_loader = DataLoader(dataset=dataset, batch_size=batch_size, shuffle=True, num_workers=0)"
   ]
  },
  {
   "cell_type": "markdown",
   "metadata": {},
   "source": [
    "### Model Implementation"
   ]
  },
  {
   "cell_type": "code",
   "execution_count": 4,
   "metadata": {},
   "outputs": [],
   "source": [
    "class NeuralNet(nn.Module):\n",
    "    def __init__(self, input_size, hidden_size, num_classes):\n",
    "        super(NeuralNet,self).__init__()\n",
    "\n",
    "        self.layer1 = nn.Linear(input_size, hidden_size)\n",
    "        self.layer2 = nn.Linear(hidden_size, hidden_size)\n",
    "        self.layer3 = nn.Linear(hidden_size, num_classes)\n",
    "        self.relu = nn.ReLU()\n",
    "\n",
    "    def forward(self, x):\n",
    "        out = self.layer1(x)\n",
    "        out = self.relu(out)\n",
    "        out = self.layer2(out)\n",
    "        out = self.relu(out)\n",
    "        out = self.layer3(out)\n",
    "        return out\n",
    "    \n",
    "input_size = len(X_train[0])\n",
    "hidden_size = 32\n",
    "output_size = len(tags)"
   ]
  },
  {
   "cell_type": "markdown",
   "metadata": {},
   "source": [
    "### Training"
   ]
  },
  {
   "cell_type": "code",
   "execution_count": 5,
   "metadata": {},
   "outputs": [
    {
     "name": "stdout",
     "output_type": "stream",
     "text": [
      "epoch 100/1000, loss=0.0036\n",
      "epoch 200/1000, loss=0.0006\n",
      "epoch 300/1000, loss=0.0003\n",
      "epoch 400/1000, loss=0.0001\n",
      "epoch 500/1000, loss=0.0002\n",
      "epoch 600/1000, loss=0.0000\n",
      "epoch 700/1000, loss=0.0000\n",
      "epoch 800/1000, loss=0.0000\n",
      "epoch 900/1000, loss=0.0000\n",
      "epoch 1000/1000, loss=0.0000\n",
      "Final Loss: 0.0000\n"
     ]
    }
   ],
   "source": [
    "model = NeuralNet(input_size, hidden_size, output_size)\n",
    "model = model.to(device)\n",
    "criterion = nn.CrossEntropyLoss()\n",
    "optimizer = torch.optim.Adam(model.parameters(), lr=learning_rate)\n",
    "\n",
    "for epoch in range(n_epochs):\n",
    "    for (words, labels) in train_loader:\n",
    "        words = words.to(device)\n",
    "        labels = labels.to(dtype=torch.long).to(device)\n",
    "\n",
    "        outputs = model(words)\n",
    "        loss_value = criterion(outputs, labels)\n",
    "\n",
    "        optimizer.zero_grad()\n",
    "        loss_value.backward()\n",
    "        optimizer.step()\n",
    "    \n",
    "    if (epoch+1) % 100 == 0:\n",
    "        print(f'epoch {epoch+1}/{n_epochs}, loss={loss_value.item():.4f}')\n",
    "        \n",
    "print(f'Final Loss: {loss_value.item():.4f}')"
   ]
  },
  {
   "cell_type": "code",
   "execution_count": 6,
   "metadata": {},
   "outputs": [],
   "source": [
    "chatBOT_model = {\n",
    "    \"model_state_dict\": model.state_dict(),\n",
    "    \"input_size\": input_size,\n",
    "    \"hidden_size\": hidden_size,\n",
    "    \"output_size\": output_size,\n",
    "    \"all_words\": all_words,\n",
    "    \"tags\": tags\n",
    "}\n",
    "FILEPATH = \"chatBOT_model.pth\"\n",
    "torch.save(chatBOT_model,FILEPATH)"
   ]
  }
 ],
 "metadata": {
  "kernelspec": {
   "display_name": "Python 3",
   "language": "python",
   "name": "python3"
  },
  "language_info": {
   "codemirror_mode": {
    "name": "ipython",
    "version": 3
   },
   "file_extension": ".py",
   "mimetype": "text/x-python",
   "name": "python",
   "nbconvert_exporter": "python",
   "pygments_lexer": "ipython3",
   "version": "3.11.9"
  }
 },
 "nbformat": 4,
 "nbformat_minor": 2
}
